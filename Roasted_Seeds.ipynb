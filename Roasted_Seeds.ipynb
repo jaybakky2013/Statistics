{
  "nbformat": 4,
  "nbformat_minor": 0,
  "metadata": {
    "colab": {
      "name": "Roasted Seeds.ipynb",
      "provenance": [],
      "toc_visible": true,
      "authorship_tag": "ABX9TyOapXEu6UGgJGp0TKlB32dR",
      "include_colab_link": true
    },
    "kernelspec": {
      "name": "python3",
      "display_name": "Python 3"
    }
  },
  "cells": [
    {
      "cell_type": "markdown",
      "metadata": {
        "id": "view-in-github",
        "colab_type": "text"
      },
      "source": [
        "<a href=\"https://colab.research.google.com/github/jaybakky2013/Statistics/blob/main/Roasted_Seeds.ipynb\" target=\"_parent\"><img src=\"https://colab.research.google.com/assets/colab-badge.svg\" alt=\"Open In Colab\"/></a>"
      ]
    },
    {
      "cell_type": "code",
      "metadata": {
        "id": "jZs3ltmsW4c7"
      },
      "source": [
        "import pandas as pd\n",
        "import matplotlib.pyplot as plt\n",
        "import numpy as np\n",
        "from sklearn.model_selection import train_test_split\n",
        "from sklearn.linear_model import LinearRegression\n",
        "from sklearn.metrics import r2_score\n",
        "from scipy import stats\n",
        "from sklearn.impute import SimpleImputer"
      ],
      "execution_count": null,
      "outputs": []
    },
    {
      "cell_type": "code",
      "metadata": {
        "id": "JUNVp8yvXNKm"
      },
      "source": [
        "data=pd.read_excel('data.xlsx')"
      ],
      "execution_count": null,
      "outputs": []
    },
    {
      "cell_type": "code",
      "metadata": {
        "id": "RyqLHaOUfPdx"
      },
      "source": [
        "def prepro(data):\n",
        "  data=np.array(data).reshape(data.shape[0],1)\n",
        "  return data\n"
      ],
      "execution_count": null,
      "outputs": []
    },
    {
      "cell_type": "code",
      "metadata": {
        "id": "ssMm8EXoNYdz"
      },
      "source": [
        "def stack(column1, column2):\n",
        "  new_columns=np.column_stack((column1,column2))\n",
        "  new_columns=pd.DataFrame(new_columns, columns=['temperature', 'area'])\n",
        "  new_columns=new_columns.dropna()\n",
        "  return new_columns"
      ],
      "execution_count": null,
      "outputs": []
    },
    {
      "cell_type": "code",
      "metadata": {
        "id": "TnxKHOmSusTu"
      },
      "source": [
        "def split (data, label, size=0.3):\n",
        "  train_data, test_data, train_label,test_label=train_test_split(data, label, test_size=size)\n",
        "  return train_data, test_data, train_label,test_label\n",
        "\n"
      ],
      "execution_count": null,
      "outputs": []
    },
    {
      "cell_type": "code",
      "metadata": {
        "id": "IWQ3sVUQD56T"
      },
      "source": [
        "def model(train_data, train_label, test_data):\n",
        "  linreg= LinearRegression()\n",
        "  linreg=linreg.fit(train_data, train_label)\n",
        "  coef=linreg.coef_\n",
        "  intercept=linreg.intercept_\n",
        "  label_pred=linreg.predict(test_data)\n",
        "  return coef, intercept, label_pred\n",
        "  "
      ],
      "execution_count": null,
      "outputs": []
    },
    {
      "cell_type": "code",
      "metadata": {
        "id": "pAs3PBQ3Ex-U"
      },
      "source": [
        "def acc(label_test, label_pred):\n",
        "  r2= r2_score(label_test,label_pred)\n",
        "  return r2\n"
      ],
      "execution_count": null,
      "outputs": []
    },
    {
      "cell_type": "code",
      "metadata": {
        "id": "g4H_brNH6Ht_"
      },
      "source": [
        "def statistics(test_label, label_pred):\n",
        "  ttest,pvalue=stats.ttest_ind(test_label, label_pred)\n",
        "  return ttest, pvalue"
      ],
      "execution_count": null,
      "outputs": []
    },
    {
      "cell_type": "code",
      "metadata": {
        "id": "3361Wh6ig2Na"
      },
      "source": [
        "temperature= prepro(data['Temp'])\n",
        "time=prepro(data['Time'])\n",
        "A1=prepro(data['Area 6.25 min (330 nm)  ug CLE'])\n",
        "A2=prepro(data['Area 11.5 min (350 nm) ug CLE'])\n",
        "A3=prepro(data['Area 14.95 min (270 nm) ug CLE'])\n",
        "A4=prepro(data['Area 16.42 min (270 nm) ug CLE'])\n",
        "A5=prepro(data['Area 31.8 min Canolol (270 nm) ug CLE'])\n",
        "A6=prepro(data['Area Sinapine (330 nm) ug CLE'])\n"
      ],
      "execution_count": null,
      "outputs": []
    },
    {
      "cell_type": "code",
      "metadata": {
        "id": "IapEGs0tMRLu"
      },
      "source": [
        "Area1=stack(temperature,A1)\n",
        "Area2=stack(temperature,A2)\n",
        "Area3=stack(temperature,A3)\n",
        "Area4=stack(temperature,A4)\n",
        "Area5=stack(temperature,A5)\n",
        "Area6=stack(temperature,A6)"
      ],
      "execution_count": null,
      "outputs": []
    },
    {
      "cell_type": "code",
      "metadata": {
        "id": "Ud4i7yrKY5tF"
      },
      "source": [
        "Area1t=stack(time,A1)\n",
        "Area2t=stack(time,A2)\n",
        "Area3t=stack(time,A3)\n",
        "Area4t=stack(time,A4)\n",
        "Area5t=stack(time,A5)\n",
        "Area6t=stack(time,A6)"
      ],
      "execution_count": null,
      "outputs": []
    },
    {
      "cell_type": "code",
      "metadata": {
        "id": "5lpHdfv4SLN8"
      },
      "source": [
        "A1_new=prepro(Area1['area'])\n",
        "temp_A1=prepro(Area1['temperature'])\n",
        "A2_new=prepro(Area2['area'])\n",
        "temp_A2=prepro(Area2['temperature'])\n",
        "A3_new=prepro(Area3['area'])\n",
        "temp_A3=prepro(Area3['temperature'])\n",
        "A4_new=prepro(Area4['area'])\n",
        "temp_A4=prepro(Area4['temperature'])\n",
        "A5_new=prepro(Area5['area'])\n",
        "temp_A5=prepro(Area5['temperature'])\n",
        "A6_new=prepro(Area6['area'])\n",
        "temp_A6=prepro(Area6['temperature'])"
      ],
      "execution_count": null,
      "outputs": []
    },
    {
      "cell_type": "code",
      "metadata": {
        "id": "zPG0k0pEfXEV"
      },
      "source": [
        "A1t_new=prepro(Area1t['area'])\n",
        "time_A1=prepro(Area1t['temperature'])\n",
        "A2t_new=prepro(Area2t['area'])\n",
        "time_A2=prepro(Area2t['temperature'])\n",
        "A3t_new=prepro(Area3t['area'])\n",
        "time_A3=prepro(Area3t['temperature'])\n",
        "A4t_new=prepro(Area4t['area'])\n",
        "time_A4=prepro(Area4t['temperature'])\n",
        "A5t_new=prepro(Area5t['area'])\n",
        "time_A5=prepro(Area5t['temperature'])\n",
        "A6t_new=prepro(Area6t['area'])\n",
        "time_A6=prepro(Area6t['temperature'])"
      ],
      "execution_count": null,
      "outputs": []
    },
    {
      "cell_type": "code",
      "metadata": {
        "id": "B3Saa7Lj61FF",
        "colab": {
          "base_uri": "https://localhost:8080/"
        },
        "outputId": "c50adb0b-8d5f-4022-ba67-5db80fb1b4ad"
      },
      "source": [
        "train_data, test_data, train_label,test_label=split(temp_A1,A1_new)\n",
        "coef, intercept, label_pred=model(train_data, train_label, test_data)\n",
        "rscore=acc(test_label, label_pred)\n",
        "rscore"
      ],
      "execution_count": null,
      "outputs": [
        {
          "output_type": "execute_result",
          "data": {
            "text/plain": [
              "0.6526410116797016"
            ]
          },
          "metadata": {
            "tags": []
          },
          "execution_count": 70
        }
      ]
    },
    {
      "cell_type": "code",
      "metadata": {
        "colab": {
          "base_uri": "https://localhost:8080/"
        },
        "id": "qmCs6qlcWACm",
        "outputId": "7ca8878e-4a4b-439d-df98-4d971da17c5e"
      },
      "source": [
        "ttest1, pval1=statistics(temp_A1, A1_new)\n",
        "ttest2, pval2=statistics(temp_A2, A2_new)\n",
        "ttest3, pval3=statistics(temp_A3, A3_new)\n",
        "ttest4, pval4=statistics(temp_A4, A4_new)\n",
        "ttest5, pval5=statistics(temp_A5, A5_new)\n",
        "ttest6, pval6=statistics(temp_A6, A6_new)\n",
        "print(pval1, pval2, pval3, pval4, pval5, pval6)\n"
      ],
      "execution_count": null,
      "outputs": [
        {
          "output_type": "stream",
          "text": [
            "[5.79641511e-05] [3.90940314e-08] [0.00812239] [4.45849834e-16] [2.8760325e-76] [2.63972084e-153]\n"
          ],
          "name": "stdout"
        }
      ]
    },
    {
      "cell_type": "code",
      "metadata": {
        "colab": {
          "base_uri": "https://localhost:8080/"
        },
        "id": "kdtAr_ISWMlr",
        "outputId": "25d45585-4269-48bb-a961-b1765ed28988"
      },
      "source": [
        "ttest_timeA1, pval_timeA1=statistics(time_A1, A1t_new)\n",
        "ttest_timeA2, pval_timeA2=statistics(time_A2, A2t_new)\n",
        "ttest_timeA3, pval_timeA3=statistics(time_A3, A3t_new)\n",
        "ttest_timeA4, pval_timeA4=statistics(time_A4, A4t_new)\n",
        "ttest_timeA5, pval_timeA5=statistics(time_A5, A5t_new)\n",
        "ttest_timeA6, pval_timeA6=statistics(time_A6, A6t_new)\n",
        "print(pval_timeA1, pval_timeA2, pval_timeA3, pval_timeA4, pval_timeA5, pval_timeA6)"
      ],
      "execution_count": null,
      "outputs": [
        {
          "output_type": "stream",
          "text": [
            "[7.16444323e-18] [1.86763624e-20] [9.5725066e-56] [3.80672624e-27] [8.0628692e-90] [1.21781412e-95]\n"
          ],
          "name": "stdout"
        }
      ]
    },
    {
      "cell_type": "code",
      "metadata": {
        "id": "LyjdyEmBju3M"
      },
      "source": [
        "P_value = pd.DataFrame([[pval1, pval_timeA1], [pval2, pval_timeA2], [pval3, pval_timeA3],\n",
        "                    [pval4, pval_timeA4], [pval5, pval_timeA5], [pval6, pval_timeA6]],\n",
        "                   columns=['P-value Temp + Area', 'P-value Time + Area'])"
      ],
      "execution_count": null,
      "outputs": []
    },
    {
      "cell_type": "code",
      "metadata": {
        "colab": {
          "base_uri": "https://localhost:8080/",
          "height": 204
        },
        "id": "9VtzNmIhj-bf",
        "outputId": "f3f5f767-8a93-4b0c-f3c4-d3c7db5d106d"
      },
      "source": [
        "P_value.head()"
      ],
      "execution_count": null,
      "outputs": [
        {
          "output_type": "execute_result",
          "data": {
            "text/html": [
              "<div>\n",
              "<style scoped>\n",
              "    .dataframe tbody tr th:only-of-type {\n",
              "        vertical-align: middle;\n",
              "    }\n",
              "\n",
              "    .dataframe tbody tr th {\n",
              "        vertical-align: top;\n",
              "    }\n",
              "\n",
              "    .dataframe thead th {\n",
              "        text-align: right;\n",
              "    }\n",
              "</style>\n",
              "<table border=\"1\" class=\"dataframe\">\n",
              "  <thead>\n",
              "    <tr style=\"text-align: right;\">\n",
              "      <th></th>\n",
              "      <th>P-value Temp + Area</th>\n",
              "      <th>P-value Time + Area</th>\n",
              "    </tr>\n",
              "  </thead>\n",
              "  <tbody>\n",
              "    <tr>\n",
              "      <th>0</th>\n",
              "      <td>[5.796415110225023e-05]</td>\n",
              "      <td>[7.164443234282807e-18]</td>\n",
              "    </tr>\n",
              "    <tr>\n",
              "      <th>1</th>\n",
              "      <td>[3.909403140412852e-08]</td>\n",
              "      <td>[1.8676362441292033e-20]</td>\n",
              "    </tr>\n",
              "    <tr>\n",
              "      <th>2</th>\n",
              "      <td>[0.008122388798916337]</td>\n",
              "      <td>[9.572506604278423e-56]</td>\n",
              "    </tr>\n",
              "    <tr>\n",
              "      <th>3</th>\n",
              "      <td>[4.458498344547829e-16]</td>\n",
              "      <td>[3.806726242427705e-27]</td>\n",
              "    </tr>\n",
              "    <tr>\n",
              "      <th>4</th>\n",
              "      <td>[2.876032496694528e-76]</td>\n",
              "      <td>[8.062869198917448e-90]</td>\n",
              "    </tr>\n",
              "  </tbody>\n",
              "</table>\n",
              "</div>"
            ],
            "text/plain": [
              "       P-value Temp + Area       P-value Time + Area\n",
              "0  [5.796415110225023e-05]   [7.164443234282807e-18]\n",
              "1  [3.909403140412852e-08]  [1.8676362441292033e-20]\n",
              "2   [0.008122388798916337]   [9.572506604278423e-56]\n",
              "3  [4.458498344547829e-16]   [3.806726242427705e-27]\n",
              "4  [2.876032496694528e-76]   [8.062869198917448e-90]"
            ]
          },
          "metadata": {
            "tags": []
          },
          "execution_count": 93
        }
      ]
    },
    {
      "cell_type": "code",
      "metadata": {
        "id": "8k2VGjbxlKLZ"
      },
      "source": [
        "from scipy.stats import f_oneway"
      ],
      "execution_count": null,
      "outputs": []
    },
    {
      "cell_type": "code",
      "metadata": {
        "colab": {
          "base_uri": "https://localhost:8080/"
        },
        "id": "seRr2R2Glqhh",
        "outputId": "2c9dd300-a630-488e-f5f5-70f1e2aeb820"
      },
      "source": [
        "F1,pf1=f_oneway(temp_A1,A1_new)\n",
        "F2,pf2=f_oneway(temp_A2,A2_new)\n",
        "F3,pf3=f_oneway(temp_A3,A3_new)\n",
        "F4,pf4=f_oneway(temp_A4,A4_new)\n",
        "F5,pf5=f_oneway(temp_A5,A5_new)\n",
        "F6,pf6=f_oneway(temp_A6,A6_new)\n",
        "print(pf1, pf2, pf3, pf4, pf5, pf6)"
      ],
      "execution_count": null,
      "outputs": [
        {
          "output_type": "stream",
          "text": [
            "[5.79641511e-05] [3.90940314e-08] [0.00812239] [4.45849834e-16] [2.8760325e-76] [2.63972084e-153]\n"
          ],
          "name": "stdout"
        }
      ]
    },
    {
      "cell_type": "code",
      "metadata": {
        "colab": {
          "base_uri": "https://localhost:8080/"
        },
        "id": "jd3ReEsBmZoO",
        "outputId": "494a958f-16ff-4274-9001-75005d5bc798"
      },
      "source": [
        "F1t,pf1t=f_oneway(time_A1,A1_new)\n",
        "F2t,pf2t=f_oneway(time_A2,A2_new)\n",
        "F3t,pf3t=f_oneway(time_A3,A3_new)\n",
        "F4t,pf4t=f_oneway(time_A4,A4_new)\n",
        "F5t,pf5t=f_oneway(time_A5,A5_new)\n",
        "F6t,pf6t=f_oneway(time_A6,A6_new)\n",
        "print(pf1t, pf2t, pf3t, pf4t, pf5t, pf6t)"
      ],
      "execution_count": null,
      "outputs": [
        {
          "output_type": "stream",
          "text": [
            "[7.16444323e-18] [1.86763624e-20] [9.5725066e-56] [3.80672624e-27] [8.0628692e-90] [1.21781412e-95]\n"
          ],
          "name": "stdout"
        }
      ]
    },
    {
      "cell_type": "code",
      "metadata": {
        "colab": {
          "base_uri": "https://localhost:8080/"
        },
        "id": "Ox5xjMTDo5-1",
        "outputId": "526b10bb-9848-4269-8624-7e2cc902589e"
      },
      "source": [
        "F1A,pf1A=f_oneway(temp_A1,A1_new,time_A1)\n",
        "F2A,pf2A=f_oneway(temp_A2,A2_new,time_A2)\n",
        "F3A,pf3A=f_oneway(temp_A3,A3_new,time_A3)\n",
        "F4A,pf4A=f_oneway(temp_A4,A4_new,time_A4)\n",
        "F5A,pf5A=f_oneway(temp_A5,A5_new,time_A5)\n",
        "F6A,pf6A=f_oneway(temp_A6,A6_new,time_A6)\n",
        "print(pf1A, pf2A, pf3A, pf4A, pf5A, pf6A)"
      ],
      "execution_count": null,
      "outputs": [
        {
          "output_type": "stream",
          "text": [
            "[4.26548314e-25] [5.38434687e-49] [6.73087571e-99] [4.99623351e-40] [7.92846175e-139] [7.38182122e-278]\n"
          ],
          "name": "stdout"
        }
      ]
    },
    {
      "cell_type": "code",
      "metadata": {
        "id": "uTuW5xxBp0Y6"
      },
      "source": [
        "Anova_P_value = pd.DataFrame([[pf1, pf1t, pf1A], [pf2, pf2t, pf2A], [pf3, pf3t, pf3A],\n",
        "                    [pf4, pf4t, pf4A], [pf5, pf5t, pf5A], [pf1, pf1t, pf1A]],\n",
        "                   columns=['Anova P-value Temp + Area', 'Anova P-value Time + Area', 'Anova P-value Temp + Area + Time'])"
      ],
      "execution_count": null,
      "outputs": []
    },
    {
      "cell_type": "code",
      "metadata": {
        "colab": {
          "base_uri": "https://localhost:8080/",
          "height": 235
        },
        "id": "0pDLhUEor8kA",
        "outputId": "27920494-0c02-4a8a-c818-5c67f21b3b3b"
      },
      "source": [
        "Anova_P_value"
      ],
      "execution_count": null,
      "outputs": [
        {
          "output_type": "execute_result",
          "data": {
            "text/html": [
              "<div>\n",
              "<style scoped>\n",
              "    .dataframe tbody tr th:only-of-type {\n",
              "        vertical-align: middle;\n",
              "    }\n",
              "\n",
              "    .dataframe tbody tr th {\n",
              "        vertical-align: top;\n",
              "    }\n",
              "\n",
              "    .dataframe thead th {\n",
              "        text-align: right;\n",
              "    }\n",
              "</style>\n",
              "<table border=\"1\" class=\"dataframe\">\n",
              "  <thead>\n",
              "    <tr style=\"text-align: right;\">\n",
              "      <th></th>\n",
              "      <th>Anova P-value Temp + Area</th>\n",
              "      <th>Anova P-value Time + Area</th>\n",
              "      <th>Anova P-value Temp + Area + Time</th>\n",
              "    </tr>\n",
              "  </thead>\n",
              "  <tbody>\n",
              "    <tr>\n",
              "      <th>0</th>\n",
              "      <td>[5.796415110225073e-05]</td>\n",
              "      <td>[7.164443234282861e-18]</td>\n",
              "      <td>[4.265483144465967e-25]</td>\n",
              "    </tr>\n",
              "    <tr>\n",
              "      <th>1</th>\n",
              "      <td>[3.909403140412805e-08]</td>\n",
              "      <td>[1.867636244129193e-20]</td>\n",
              "      <td>[5.384346870283603e-49]</td>\n",
              "    </tr>\n",
              "    <tr>\n",
              "      <th>2</th>\n",
              "      <td>[0.008122388798916413]</td>\n",
              "      <td>[9.572506604279274e-56]</td>\n",
              "      <td>[6.730875711588142e-99]</td>\n",
              "    </tr>\n",
              "    <tr>\n",
              "      <th>3</th>\n",
              "      <td>[4.45849834454778e-16]</td>\n",
              "      <td>[3.806726242427589e-27]</td>\n",
              "      <td>[4.996233512546961e-40]</td>\n",
              "    </tr>\n",
              "    <tr>\n",
              "      <th>4</th>\n",
              "      <td>[2.8760324966944667e-76]</td>\n",
              "      <td>[8.06286919891449e-90]</td>\n",
              "      <td>[7.928461753859022e-139]</td>\n",
              "    </tr>\n",
              "    <tr>\n",
              "      <th>5</th>\n",
              "      <td>[5.796415110225073e-05]</td>\n",
              "      <td>[7.164443234282861e-18]</td>\n",
              "      <td>[4.265483144465967e-25]</td>\n",
              "    </tr>\n",
              "  </tbody>\n",
              "</table>\n",
              "</div>"
            ],
            "text/plain": [
              "  Anova P-value Temp + Area  ... Anova P-value Temp + Area + Time\n",
              "0   [5.796415110225073e-05]  ...          [4.265483144465967e-25]\n",
              "1   [3.909403140412805e-08]  ...          [5.384346870283603e-49]\n",
              "2    [0.008122388798916413]  ...          [6.730875711588142e-99]\n",
              "3    [4.45849834454778e-16]  ...          [4.996233512546961e-40]\n",
              "4  [2.8760324966944667e-76]  ...         [7.928461753859022e-139]\n",
              "5   [5.796415110225073e-05]  ...          [4.265483144465967e-25]\n",
              "\n",
              "[6 rows x 3 columns]"
            ]
          },
          "metadata": {
            "tags": []
          },
          "execution_count": 104
        }
      ]
    }
  ]
}