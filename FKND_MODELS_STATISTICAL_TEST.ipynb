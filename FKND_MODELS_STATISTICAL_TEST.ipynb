{
  "nbformat": 4,
  "nbformat_minor": 0,
  "metadata": {
    "colab": {
      "name": "FKND MODELS STATISTICAL TEST.ipynb",
      "provenance": [],
      "collapsed_sections": [],
      "include_colab_link": true
    },
    "kernelspec": {
      "name": "python3",
      "display_name": "Python 3"
    }
  },
  "cells": [
    {
      "cell_type": "markdown",
      "metadata": {
        "id": "view-in-github",
        "colab_type": "text"
      },
      "source": [
        "<a href=\"https://colab.research.google.com/github/jaybakky2013/Statistics/blob/main/FKND_MODELS_STATISTICAL_TEST.ipynb\" target=\"_parent\"><img src=\"https://colab.research.google.com/assets/colab-badge.svg\" alt=\"Open In Colab\"/></a>"
      ]
    },
    {
      "cell_type": "markdown",
      "metadata": {
        "id": "vXaXC46syWc4"
      },
      "source": [
        "STATISTICAL TEST FOR COMPARISM OF BERT MODELS WITH LIAR DATASET\n",
        "\n",
        "\n",
        "> By Barakat Jayeola Akinsanya\n",
        "\n"
      ]
    },
    {
      "cell_type": "code",
      "metadata": {
        "id": "F8iOA5QIyXMb",
        "outputId": "15abf50f-7c16-4490-e6cc-f8d05591c43f",
        "colab": {
          "base_uri": "https://localhost:8080/",
          "height": 72
        }
      },
      "source": [
        "import pandas as pd\n",
        "from matplotlib import pyplot\n",
        "from scipy.stats import normaltest\n",
        "from statsmodels.graphics.gofplots import qqplot\n",
        "from scipy import stats\n",
        "from scipy.stats import shapiro\n",
        "from scipy.stats import ks_2samp\n"
      ],
      "execution_count": null,
      "outputs": [
        {
          "output_type": "stream",
          "text": [
            "/usr/local/lib/python3.6/dist-packages/statsmodels/tools/_testing.py:19: FutureWarning: pandas.util.testing is deprecated. Use the functions in the public API at pandas.testing instead.\n",
            "  import pandas.util.testing as tm\n"
          ],
          "name": "stderr"
        }
      ]
    },
    {
      "cell_type": "markdown",
      "metadata": {
        "id": "_3bgdNdM2lj-"
      },
      "source": [
        "Read The Predictions From BERT Base and BERT large."
      ]
    },
    {
      "cell_type": "code",
      "metadata": {
        "id": "NtF_U97PRoof"
      },
      "source": [
        "results =pd.DataFrame()\n",
        "results['base'] = pd.read_csv('bertbasee.csv', header=None).values[:, 1]\n",
        "results['large'] = pd.read_csv('bertlarge.csv', header=None).values[:, 1]"
      ],
      "execution_count": null,
      "outputs": []
    },
    {
      "cell_type": "markdown",
      "metadata": {
        "id": "alzfz8cI2yzk"
      },
      "source": [
        "Descriptive Statistics"
      ]
    },
    {
      "cell_type": "code",
      "metadata": {
        "id": "nf_TgLECsP3s",
        "outputId": "19a564b7-8b3d-4ff7-d1f6-78fd14433c31",
        "colab": {
          "base_uri": "https://localhost:8080/",
          "height": 685
        }
      },
      "source": [
        "print(results.describe())\n",
        "# box and whisker plot\n",
        "results.boxplot()\n",
        "pyplot.show()\n",
        "# histogram\n",
        "results.hist()\n",
        "pyplot.show()"
      ],
      "execution_count": null,
      "outputs": [
        {
          "output_type": "stream",
          "text": [
            "            base      large\n",
            "count  22.000000  22.000000\n",
            "mean    2.181818   1.727273\n",
            "std     1.763016   1.638287\n",
            "min     0.000000   0.000000\n",
            "25%     1.000000   1.000000\n",
            "50%     2.000000   1.000000\n",
            "75%     3.000000   2.750000\n",
            "max     5.000000   5.000000\n"
          ],
          "name": "stdout"
        },
        {
          "output_type": "display_data",
          "data": {
            "image/png": "[encoded data removed]",
            "text/plain": [
              "<Figure size 432x288 with 1 Axes>"
            ]
          },
          "metadata": {
            "tags": [],
            "needs_background": "light"
          }
        },
        {
          "output_type": "display_data",
          "data": {
            "image/png": "[encoded data removed]",
            "text/plain": [
              "<Figure size 432x288 with 2 Axes>"
            ]
          },
          "metadata": {
            "tags": [],
            "needs_background": "light"
          }
        }
      ]
    },
    {
      "cell_type": "markdown",
      "metadata": {
        "id": "NrQPXaO_3C-G"
      },
      "source": [
        "Q-Q Plot for Visualization of the Data to test for Normality"
      ]
    },
    {
      "cell_type": "code",
      "metadata": {
        "id": "IriSzD1_W3T6",
        "outputId": "7a85179c-076c-4acf-e3e9-ae7f559a3734",
        "colab": {
          "base_uri": "https://localhost:8080/",
          "height": 573
        }
      },
      "source": [
        "qqplot(results['base'], line='s')\n",
        "pyplot.title(\"Q-Q Plot for Bert base result\")\n",
        "pyplot.show()\n",
        "qqplot(results['large'], line='s')\n",
        "pyplot.title(\"Q-Q Plot for Bert large result\")\n",
        "pyplot.show()"
      ],
      "execution_count": null,
      "outputs": [
        {
          "output_type": "display_data",
          "data": {
            "image/png": "[encoded data removed]",
            "text/plain": [
              "<Figure size 432x288 with 1 Axes>"
            ]
          },
          "metadata": {
            "tags": [],
            "needs_background": "light"
          }
        },
        {
          "output_type": "display_data",
          "data": {
            "image/png": "[encoded data removed]",
            "text/plain": [
              "<Figure size 432x288 with 1 Axes>"
            ]
          },
          "metadata": {
            "tags": [],
            "needs_background": "light"
          }
        }
      ]
    },
    {
      "cell_type": "markdown",
      "metadata": {
        "id": "G8RzJe1_3QkL"
      },
      "source": [
        "Shapiro-Wilk Test for Normality of the Predictions result from BERT base\n",
        "\n",
        "\n",
        "\n",
        "> H0: Sample looks Gaussian\n",
        "\n",
        "> H1: Sample does not look Gaussian\n",
        "\n",
        "\n",
        "\n"
      ]
    },
    {
      "cell_type": "code",
      "metadata": {
        "id": "NtbcmUplXCXJ",
        "outputId": "c000dcca-4da7-4c5e-b62b-d478a5fefe8e",
        "colab": {
          "base_uri": "https://localhost:8080/",
          "height": 52
        }
      },
      "source": [
        "\n",
        "\n",
        "stat, p = shapiro(results['base'])\n",
        "print('Statistics=%.3f, p=%.3f' % (stat, p))\n",
        "alpha = 0.05\n",
        "if p > alpha:\n",
        "\tprint('Sample looks Gaussian (fail to reject H0)')\n",
        "else:\n",
        "\tprint('Sample does not look Gaussian (reject H0)')"
      ],
      "execution_count": null,
      "outputs": [
        {
          "output_type": "stream",
          "text": [
            "Statistics=0.843, p=0.003\n",
            "Sample does not look Gaussian (reject H0)\n"
          ],
          "name": "stdout"
        }
      ]
    },
    {
      "cell_type": "markdown",
      "metadata": {
        "id": "k0lm4iC94ESc"
      },
      "source": [
        "Shapiro-Wilk Test for Normality of the Predictions result from BERT large\n",
        "\n",
        "\n",
        "\n",
        "> H0: Sample looks Gaussian\n",
        "\n",
        "> H1: Sample does not look Gaussian\n",
        "\n"
      ]
    },
    {
      "cell_type": "code",
      "metadata": {
        "id": "zwjcgUIqX-a8",
        "outputId": "1f58e181-76e0-49ea-f41e-2e1097c634c0",
        "colab": {
          "base_uri": "https://localhost:8080/",
          "height": 52
        }
      },
      "source": [
        "\n",
        "stat, p = shapiro(results['large'])\n",
        "print('Statistics=%.3f, p=%.3f' % (stat, p))\n",
        "# interpret\n",
        "alpha = 0.05\n",
        "if p > alpha:\n",
        "\tprint('Sample looks Gaussian (fail to reject H0)')\n",
        "else:\n",
        "\tprint('Sample does not look Gaussian (reject H0)')"
      ],
      "execution_count": null,
      "outputs": [
        {
          "output_type": "stream",
          "text": [
            "Statistics=0.839, p=0.002\n",
            "Sample does not look Gaussian (reject H0)\n"
          ],
          "name": "stdout"
        }
      ]
    },
    {
      "cell_type": "markdown",
      "metadata": {
        "id": "-PSJs7Rl4Zeg"
      },
      "source": [
        "\n",
        "Calculate the significance using Kolmogorov–Smirnov test\n",
        "\n",
        "\n",
        "\n",
        "> H0 : difference between the two populations is not significant.\n",
        "\n",
        "\n",
        "> H1 : difference between the two populations is significant.\n",
        "\n",
        "\n",
        "\n",
        "\n"
      ]
    },
    {
      "cell_type": "code",
      "metadata": {
        "id": "smX3W0m3YEMb",
        "outputId": "058089bf-1978-471b-f052-a6ba4b0e4d39",
        "colab": {
          "base_uri": "https://localhost:8080/",
          "height": 52
        }
      },
      "source": [
        "\n",
        "value, pvalue = ks_2samp(results['base'], results['large'])\n",
        "print(value, pvalue)\n",
        "if pvalue > 0.05:\n",
        "\tprint('Samples are likely drawn from the same distributions (fail to reject H0)')\n",
        "else:\n",
        "\tprint('Samples are likely drawn from different distributions (reject H0)')"
      ],
      "execution_count": null,
      "outputs": [
        {
          "output_type": "stream",
          "text": [
            "0.13636363636363635 0.9900571661472556\n",
            "Samples are likely drawn from the same distributions (fail to reject H0)\n"
          ],
          "name": "stdout"
        }
      ]
    },
    {
      "cell_type": "markdown",
      "metadata": {
        "id": "p5WKTMuoZeHE"
      },
      "source": [
        "The p-value is large, suggesting a near certainty that the difference between the two populations is not significant."
      ]
    }
  ]
}